{
  "nbformat": 4,
  "nbformat_minor": 0,
  "metadata": {
    "colab": {
      "name": "DNNs.ipynb",
      "version": "0.3.2",
      "provenance": [],
      "collapsed_sections": [],
      "include_colab_link": true
    },
    "kernelspec": {
      "display_name": "Python 3",
      "language": "python",
      "name": "python3"
    }
  },
  "cells": [
    {
      "cell_type": "markdown",
      "metadata": {
        "id": "view-in-github",
        "colab_type": "text"
      },
      "source": [
        "<a href=\"https://colab.research.google.com/github/techshot25/fashion-mnist-dnn/blob/master/DNNs.ipynb\" target=\"_parent\"><img src=\"https://colab.research.google.com/assets/colab-badge.svg\" alt=\"Open In Colab\"/></a>"
      ]
    },
    {
      "metadata": {
        "id": "-40VPC7MAGGB",
        "colab_type": "text"
      },
      "cell_type": "markdown",
      "source": [
        "# Benchmarking Fashion-MNIST with Deep Neural Nets\n",
        "\n",
        "---\n",
        "\n",
        "By Ali Shannon (aa3dc@virginia.edu)"
      ]
    },
    {
      "metadata": {
        "id": "piFzh10hAGGE",
        "colab_type": "text"
      },
      "cell_type": "markdown",
      "source": [
        "### Part of CS 4501 Machine Learning - Department of Computer Science - University of Virginia\n",
        "\"The original MNIST dataset contains a lot of handwritten digits. Members of the AI/ML/Data Science community love this dataset and use it as a benchmark to validate their algorithms. In fact, MNIST is often the first dataset researchers try. \"If it doesn't work on MNIST, it won't work at all\", they said. \"Well, if it does work on MNIST, it may still fail on others.\" - **Zalando Research, Github Repo.**\"\n",
        "\n",
        "Fashion-MNIST is a dataset from the Zalando's article. Each example is a 28x28 grayscale image, associated with a label from 10 classes. They intend Fashion-MNIST to serve as a direct drop-in replacement for the original MNIST dataset for benchmarking machine learning algorithms.\n",
        "\n",
        "![Here's an example how the data looks (each class takes three-rows):](https://github.com/zalandoresearch/fashion-mnist/raw/master/doc/img/fashion-mnist-sprite.png)\n",
        "\n",
        "In this project, I will attempt to benchmark the Fashion-MNIST using Neural Networks. I will use it to train some neural networks on TensorFlow and predict the final output of 10 classes. \n"
      ]
    },
    {
      "metadata": {
        "id": "469YvvIzAGGJ",
        "colab_type": "code",
        "colab": {}
      },
      "cell_type": "code",
      "source": [
        "# libraries needed\n",
        "import numpy as np\n",
        "import os\n",
        "import tensorflow as tf\n",
        "tf.logging.set_verbosity(tf.logging.ERROR) #reduce annoying warning messages\n",
        "from functools import partial\n",
        "import matplotlib.pyplot as plt\n",
        "\n",
        "# to make this notebook's output stable across runs\n",
        "def reset_graph(seed=42):\n",
        "    tf.reset_default_graph()\n",
        "    tf.set_random_seed(seed)\n",
        "    np.random.seed(seed)"
      ],
      "execution_count": 0,
      "outputs": []
    },
    {
      "metadata": {
        "id": "t-PtpH4xAGGG",
        "colab_type": "text"
      },
      "cell_type": "markdown",
      "source": [
        "---\n",
        "## 1. PRE-PROCESSING THE DATA\n",
        "\n",
        "Loading fashion MNIST directly from Tensorflow. Partitioning the dataset and doing minimal preprocessing since the data is not raw.\n",
        "\n",
        "Images are 28 x 28 pixels and they are labelled according to the clothing item represented in the picture, see the demonsration below"
      ]
    },
    {
      "metadata": {
        "id": "Z2-Ilkesfm7Z",
        "colab_type": "code",
        "colab": {
          "base_uri": "https://localhost:8080/",
          "height": 158
        },
        "outputId": "c00be1bd-fa8f-4a56-9e0e-d6b8f74cb53c"
      },
      "cell_type": "code",
      "source": [
        "# Your code goes here for this section.\n",
        "fmnist = tf.keras.datasets.fashion_mnist.load_data();\n",
        "(train_images, train_labels), (test_images, test_labels) = fmnist\n",
        "class_names = ['T-shirt/top', 'Trouser', 'Pullover', 'Dress', 'Coat', \n",
        "               'Sandal', 'Shirt', 'Sneaker', 'Bag', 'Ankle boot']"
      ],
      "execution_count": 6,
      "outputs": [
        {
          "output_type": "stream",
          "text": [
            "Downloading data from https://storage.googleapis.com/tensorflow/tf-keras-datasets/train-labels-idx1-ubyte.gz\n",
            "32768/29515 [=================================] - 0s 0us/step\n",
            "Downloading data from https://storage.googleapis.com/tensorflow/tf-keras-datasets/train-images-idx3-ubyte.gz\n",
            "26427392/26421880 [==============================] - 0s 0us/step\n",
            "Downloading data from https://storage.googleapis.com/tensorflow/tf-keras-datasets/t10k-labels-idx1-ubyte.gz\n",
            "8192/5148 [===============================================] - 0s 0us/step\n",
            "Downloading data from https://storage.googleapis.com/tensorflow/tf-keras-datasets/t10k-images-idx3-ubyte.gz\n",
            "4423680/4422102 [==============================] - 0s 0us/step\n"
          ],
          "name": "stdout"
        }
      ]
    },
    {
      "metadata": {
        "id": "GJzpMky4AW7R",
        "colab_type": "code",
        "outputId": "bc2a8e10-dba9-4a53-a55a-33928c01da02",
        "colab": {
          "base_uri": "https://localhost:8080/",
          "height": 537
        }
      },
      "cell_type": "code",
      "source": [
        "plt.figure(figsize=(9,9))\n",
        "for i in range(25):\n",
        "    plt.subplot(5,5,i+1)\n",
        "    plt.xticks([])\n",
        "    plt.yticks([])\n",
        "    plt.grid(False)\n",
        "    plt.imshow(train_images[i], cmap=plt.cm.binary)\n",
        "    plt.xlabel(class_names[train_labels[i]])\n",
        "plt.show()"
      ],
      "execution_count": 7,
      "outputs": [
        {
          "output_type": "display_data",
          "data": {
            "image/png": "[encoded data removed]",
            "text/plain": [
              "<Figure size 648x648 with 25 Axes>"
            ]
          },
          "metadata": {
            "tags": []
          }
        }
      ]
    },
    {
      "metadata": {
        "id": "Na4CpxLBAGGP",
        "colab_type": "text"
      },
      "cell_type": "markdown",
      "source": [
        "- - -\n",
        "## 2. CONSTRUCTION PHASE\n",
        "\n",
        "In this section, I define at least three neural networks with different structures. Making sure that the input layer has the right number of inputs. The best structure often is found through a process of trial and error experimentation.\n",
        "\n",
        "Neural networks \n",
        "\n",
        "\n",
        "**Important Implementation Note:** For the purpose of learning Tensorflow, I am using low-level TensorFlow API to construct the network. Usage of high-level tools (ie. Keras) will not be implemented in this experiment."
      ]
    },
    {
      "metadata": {
        "id": "QWqNY3swhYhg",
        "colab_type": "code",
        "outputId": "8de4e99d-e860-4a5c-81a6-e7783638cef5",
        "colab": {
          "base_uri": "https://localhost:8080/",
          "height": 143
        }
      },
      "cell_type": "code",
      "source": [
        "# These parameters are global across models\n",
        "n_inputs = 28*28  # image dimensions\n",
        "n_outputs = 10 # total of 10 fashion items\n",
        "\n",
        "\n",
        "# shuffle_batch() shuffle the examples in a batch before training\n",
        "def shuffle_batch(X, y, batch_size):\n",
        "    rnd_idx = np.random.permutation(len(X))\n",
        "    n_batches = len(X) // batch_size\n",
        "    for batch_idx in np.array_split(rnd_idx, n_batches):\n",
        "        X_batch, y_batch = X[batch_idx], y[batch_idx]\n",
        "        yield X_batch, y_batch\n",
        "\n",
        "# flatten\n",
        "X_train_raw = train_images.reshape(len(train_images), n_inputs)\n",
        "y_train = train_labels\n",
        "X_test_raw = test_images.reshape(len(test_images), n_inputs)\n",
        "y_test = test_labels\n",
        "\n",
        "\n",
        "# use standard scaler\n",
        "from sklearn.preprocessing import StandardScaler\n",
        "\n",
        "scaler = StandardScaler().fit(X_train_raw)\n",
        "\n",
        "X_train = scaler.transform(X_train_raw)\n",
        "X_test = scaler.transform(X_test_raw)\n",
        "\n",
        "# spilt training into validation and training\n",
        "X_val = X_train[:10000, :]\n",
        "X_train = X_train[10000:, :]\n",
        "\n",
        "y_val = y_train[:10000]\n",
        "y_train = y_train[10000:]"
      ],
      "execution_count": 8,
      "outputs": [
        {
          "output_type": "stream",
          "text": [
            "/usr/local/lib/python3.6/dist-packages/sklearn/utils/validation.py:595: DataConversionWarning: Data with input dtype uint8 was converted to float64 by StandardScaler.\n",
            "  warnings.warn(msg, DataConversionWarning)\n",
            "/usr/local/lib/python3.6/dist-packages/sklearn/utils/validation.py:595: DataConversionWarning: Data with input dtype uint8 was converted to float64 by StandardScaler.\n",
            "  warnings.warn(msg, DataConversionWarning)\n",
            "/usr/local/lib/python3.6/dist-packages/sklearn/utils/validation.py:595: DataConversionWarning: Data with input dtype uint8 was converted to float64 by StandardScaler.\n",
            "  warnings.warn(msg, DataConversionWarning)\n"
          ],
          "name": "stderr"
        }
      ]
    },
    {
      "metadata": {
        "id": "_eC1ck65tbhp",
        "colab_type": "text"
      },
      "cell_type": "markdown",
      "source": [
        "### First model\n",
        "\n",
        "The first model will be very basic, 300 neurons for the first layer and 130 for the second with no dropouts and using the Xavier initializer. The optimizer will be gradient descent for training the network.\n",
        "\n",
        "**Neural networks**, or multilayer perceptrons, contain nodes with a linear relationship and some activation function. For example, a node from the first hidden layer takes all the inputs from the input layer and passes through some activation function before their signal is transmitted to the neurons in the next layer. For example, each node gets all the inputs from the layer before it denoted by $x$ and multiplies them by some weight $W$ and adds a bias term $b$, then finally processes them through an activation function $a(z)$ which decides the final output of that node.\n",
        "\n",
        "$$z^{[l]}_{i}=x^{[l]}_{i}X^{[l]}+b^{[l]}_{i}$$\n",
        "\n",
        "$$A^{[l]}_{i} = \\sigma(z^{[l]}_{i})$$\n",
        "\n",
        "\n",
        "> ![Neural Network](https://media.springernature.com/m685/springer-static/image/art%3A10.1038%2Fs41467-018-06322-x/MediaObjects/41467_2018_6322_Fig2_HTML.png)\n",
        "\n",
        "> [Photo credit](https://www.nature.com/articles/s41467-018-06322-x)\n",
        "\n"
      ]
    },
    {
      "metadata": {
        "id": "V9wpFpji89pb",
        "colab_type": "text"
      },
      "cell_type": "markdown",
      "source": [
        "First model will contain two hidden layers and using the Xavier initializer with no dropouts or normalization.\n",
        "\n",
        "Using Gradient Descent optimizer to train and Leaky ReLU for activation."
      ]
    },
    {
      "metadata": {
        "id": "bIJrHPVlAGGQ",
        "colab_type": "code",
        "outputId": "3090402e-3abb-4126-84d3-f89a504ac892",
        "colab": {
          "base_uri": "https://localhost:8080/",
          "height": 141
        }
      },
      "cell_type": "code",
      "source": [
        "reset_graph() # reset model\n",
        "\n",
        "learning_rate = 0.32\n",
        "n_hidden1 = 300\n",
        "n_hidden2 = 130\n",
        "\n",
        "# Construct placeholder for the input layer\n",
        "X = tf.placeholder(tf.float32, shape=(None, n_inputs), name=\"X\")\n",
        "y = tf.placeholder(tf.int32, shape=(None), name=\"y\")\n",
        "\n",
        "with tf.name_scope(\"dnn\"):\n",
        "    hidden1 = tf.layers.dense(X, n_hidden1, name = \"hidden1\", \n",
        "                              activation = tf.nn.leaky_relu,\n",
        "                             kernel_initializer = tf.contrib.layers.xavier_initializer(seed=42))\n",
        "    hidden2 = tf.layers.dense(hidden1, n_hidden2, name = \"hidden2\", \n",
        "                              activation = tf.nn.leaky_relu,\n",
        "                             kernel_initializer = tf.contrib.layers.xavier_initializer(seed=42))\n",
        "    logits = tf.layers.dense(hidden2, n_outputs, name = \"outputs\")\n",
        "\n",
        "with tf.name_scope(\"loss\"):\n",
        "    xentropy = tf.nn.sparse_softmax_cross_entropy_with_logits(labels=y,\n",
        "                                                             logits=logits)\n",
        "    loss = tf.reduce_mean(xentropy, name = \"loss\")\n",
        "    \n",
        "with tf.name_scope(\"train\"):\n",
        "    optimizer = tf.train.GradientDescentOptimizer(learning_rate)\n",
        "    training_op = optimizer.minimize(loss)\n",
        "\n",
        "with tf.name_scope(\"eval\"):\n",
        "    correct = tf.nn.in_top_k(logits, y, 1)\n",
        "    accuracy = tf.reduce_mean(tf.cast(correct, tf.float32))"
      ],
      "execution_count": 9,
      "outputs": [
        {
          "output_type": "stream",
          "text": [
            "\n",
            "WARNING: The TensorFlow contrib module will not be included in TensorFlow 2.0.\n",
            "For more information, please see:\n",
            "  * https://github.com/tensorflow/community/blob/master/rfcs/20180907-contrib-sunset.md\n",
            "  * https://github.com/tensorflow/addons\n",
            "If you depend on functionality not listed there, please file an issue.\n",
            "\n"
          ],
          "name": "stdout"
        }
      ]
    },
    {
      "metadata": {
        "id": "FDGTnPIX9Tqf",
        "colab_type": "text"
      },
      "cell_type": "markdown",
      "source": [
        "This is the excution phase, I am feeding 400 samples per batch and training the model 30 times (epochs). Validation and testing accuracy displayed for each epoch."
      ]
    },
    {
      "metadata": {
        "id": "PAmGXIvPtTXe",
        "colab_type": "code",
        "outputId": "3801c51e-82b0-43a1-9dd8-0275e55df148",
        "colab": {
          "base_uri": "https://localhost:8080/",
          "height": 550
        }
      },
      "cell_type": "code",
      "source": [
        "init = tf.global_variables_initializer()\n",
        "saver = tf.train.Saver()\n",
        "\n",
        "# number of epochs and batch sizes\n",
        "n_epochs = 30\n",
        "batch_size = 400\n",
        "\n",
        "with tf.Session() as sess:\n",
        "    init.run()\n",
        "    for epoch in range(n_epochs):\n",
        "        for X_batch, y_batch in shuffle_batch(X_train, y_train, batch_size):\n",
        "            sess.run(training_op, feed_dict={X: X_batch, y: y_batch})\n",
        "        acc_val = accuracy.eval(feed_dict={X: X_val, y: y_val})\n",
        "        acc_test = accuracy.eval(feed_dict={X: X_test, y: y_test})\n",
        "    \n",
        "        print(epoch, \"Validation Accuracy:\", acc_val, \"Test Accuracy:\", acc_test)\n",
        "    \n",
        "    save_path = saver.save(sess, \"./model_01.ckpt\")"
      ],
      "execution_count": 10,
      "outputs": [
        {
          "output_type": "stream",
          "text": [
            "0 Validation Accuracy: 0.8557 Test Accuracy: 0.8483\n",
            "1 Validation Accuracy: 0.8592 Test Accuracy: 0.846\n",
            "2 Validation Accuracy: 0.8694 Test Accuracy: 0.8615\n",
            "3 Validation Accuracy: 0.8754 Test Accuracy: 0.8654\n",
            "4 Validation Accuracy: 0.8823 Test Accuracy: 0.8726\n",
            "5 Validation Accuracy: 0.8733 Test Accuracy: 0.8701\n",
            "6 Validation Accuracy: 0.8746 Test Accuracy: 0.8677\n",
            "7 Validation Accuracy: 0.8766 Test Accuracy: 0.871\n",
            "8 Validation Accuracy: 0.8838 Test Accuracy: 0.8747\n",
            "9 Validation Accuracy: 0.8847 Test Accuracy: 0.8755\n",
            "10 Validation Accuracy: 0.884 Test Accuracy: 0.8758\n",
            "11 Validation Accuracy: 0.8868 Test Accuracy: 0.8832\n",
            "12 Validation Accuracy: 0.8808 Test Accuracy: 0.872\n",
            "13 Validation Accuracy: 0.8851 Test Accuracy: 0.8801\n",
            "14 Validation Accuracy: 0.8942 Test Accuracy: 0.884\n",
            "15 Validation Accuracy: 0.8911 Test Accuracy: 0.8806\n",
            "16 Validation Accuracy: 0.8859 Test Accuracy: 0.8774\n",
            "17 Validation Accuracy: 0.8895 Test Accuracy: 0.8835\n",
            "18 Validation Accuracy: 0.8933 Test Accuracy: 0.8876\n",
            "19 Validation Accuracy: 0.8894 Test Accuracy: 0.8868\n",
            "20 Validation Accuracy: 0.8798 Test Accuracy: 0.8761\n",
            "21 Validation Accuracy: 0.8867 Test Accuracy: 0.8792\n",
            "22 Validation Accuracy: 0.8812 Test Accuracy: 0.8765\n",
            "23 Validation Accuracy: 0.894 Test Accuracy: 0.8872\n",
            "24 Validation Accuracy: 0.8928 Test Accuracy: 0.8902\n",
            "25 Validation Accuracy: 0.8735 Test Accuracy: 0.8634\n",
            "26 Validation Accuracy: 0.89 Test Accuracy: 0.8871\n",
            "27 Validation Accuracy: 0.8923 Test Accuracy: 0.8888\n",
            "28 Validation Accuracy: 0.8929 Test Accuracy: 0.8888\n",
            "29 Validation Accuracy: 0.8886 Test Accuracy: 0.8807\n"
          ],
          "name": "stdout"
        }
      ]
    },
    {
      "metadata": {
        "id": "iZWUEGYf-vCa",
        "colab_type": "text"
      },
      "cell_type": "markdown",
      "source": [
        "This is not bad but I can try to tune the parameters even more."
      ]
    },
    {
      "metadata": {
        "id": "0k5Q8maItYxp",
        "colab_type": "text"
      },
      "cell_type": "markdown",
      "source": [
        "### Second model\n",
        "\n",
        "For this model I am designing my own neuron layer to see if that is different than the dense layer. This might work but I am just testing to see what effects it might have.\n",
        "\n",
        "I am also adding dropout layers and using a different initialization."
      ]
    },
    {
      "metadata": {
        "id": "ybzExzU-PUZX",
        "colab_type": "code",
        "colab": {}
      },
      "cell_type": "code",
      "source": [
        "# this function defines a layer to be constructed\n",
        "\n",
        "def neuron_layer(X, n_neurons, name, activation=None):\n",
        "     with tf.name_scope(name):\n",
        "        n_inputs = int(X.get_shape()[1])\n",
        "        stddev = 2 / np.sqrt(n_inputs)\n",
        "        init = tf.truncated_normal((n_inputs, n_neurons), stddev=stddev)\n",
        "        W = tf.Variable(init, name=\"weights\")\n",
        "        b = tf.Variable(tf.zeros([n_neurons]), name=\"biases\")\n",
        "        z = tf.matmul(X, W) + b\n",
        "        if activation:\n",
        "            return activation(z)\n",
        "        else:\n",
        "            return z"
      ],
      "execution_count": 0,
      "outputs": []
    },
    {
      "metadata": {
        "id": "ky2ad6NatYEx",
        "colab_type": "code",
        "colab": {}
      },
      "cell_type": "code",
      "source": [
        "reset_graph() # reset model\n",
        "\n",
        "learning_rate = 0.35\n",
        "n_hidden1 = 512\n",
        "n_hidden2 = 205\n",
        "n_hidden3 = 52\n",
        "\n",
        "# Construct placeholder for the input layer\n",
        "X = tf.placeholder(tf.float32, shape=(None, n_inputs), name=\"X\")\n",
        "y = tf.placeholder(tf.int32, shape=(None), name=\"y\")\n",
        "\n",
        "# This is the network layout\n",
        "with tf.name_scope(\"dnn\"):\n",
        "    dropout0 = tf.contrib.layers.dropout(X, keep_prob=0.9)\n",
        "\n",
        "    hidden1 = neuron_layer(dropout0, n_hidden1, name = \"hidden1\", \n",
        "                            activation = tf.nn.relu)\n",
        "                           \n",
        "    dropout1 = tf.contrib.layers.dropout(hidden1, keep_prob=0.75)\n",
        "\n",
        "    hidden2 = neuron_layer(dropout1, n_hidden2, name = \"hidden2\", \n",
        "                            activation = tf.nn.relu)\n",
        "    \n",
        "    dropout2 = tf.contrib.layers.dropout(hidden1, keep_prob=0.65)\n",
        "    \n",
        "    hidden3 = neuron_layer(hidden2, n_hidden3, name = \"hidden3\", \n",
        "                            activation = tf.nn.relu)\n",
        "    dropout3 = tf.contrib.layers.dropout(hidden3, keep_prob=0.7)\n",
        "    \n",
        "    logits = neuron_layer(dropout3, n_outputs, name = \"outputs\")\n",
        "\n",
        "    \n",
        "with tf.name_scope(\"loss\"):\n",
        "  # use softmax for multiclass output\n",
        "    xentropy = tf.nn.sparse_softmax_cross_entropy_with_logits(labels=y,\n",
        "                                                             logits=logits)\n",
        "    loss = tf.reduce_mean(xentropy, name = \"loss\")\n",
        "\n",
        "with tf.name_scope(\"train\"):\n",
        "    optimizer = tf.train.GradientDescentOptimizer(learning_rate)\n",
        "    training_op = optimizer.minimize(loss)\n",
        "\n",
        "with tf.name_scope(\"eval\"):\n",
        "    correct = tf.nn.in_top_k(logits, y, 1)\n",
        "    accuracy = tf.reduce_mean(tf.cast(correct, tf.float32))"
      ],
      "execution_count": 0,
      "outputs": []
    },
    {
      "metadata": {
        "id": "gZLYutSltnS8",
        "colab_type": "code",
        "outputId": "f5bfd224-0d3c-4fa3-e882-8a379d2e9a70",
        "colab": {
          "base_uri": "https://localhost:8080/",
          "height": 550
        }
      },
      "cell_type": "code",
      "source": [
        "init = tf.global_variables_initializer()\n",
        "saver = tf.train.Saver()\n",
        "\n",
        "extra_update_ops = tf.get_collection(tf.GraphKeys.UPDATE_OPS)\n",
        "\n",
        "# number of epochs and batch sizes\n",
        "n_epochs = 30\n",
        "batch_size = 400\n",
        "\n",
        "with tf.Session() as sess:\n",
        "    init.run()\n",
        "    for epoch in range(n_epochs):\n",
        "        for X_batch, y_batch in shuffle_batch(X_train, y_train, batch_size):\n",
        "            sess.run([training_op,extra_update_ops], feed_dict={X: X_batch, y: y_batch})\n",
        "        acc_val = accuracy.eval(feed_dict={X: X_val, y: y_val})\n",
        "        acc_test = accuracy.eval(feed_dict={X: X_test, y: y_test})\n",
        "    \n",
        "        print(epoch, \"Validation Accuracy:\", acc_val, \"Test Accuracy:\", acc_test)\n",
        "    \n",
        "    save_path = saver.save(sess, \"./model_02.ckpt\")"
      ],
      "execution_count": 15,
      "outputs": [
        {
          "output_type": "stream",
          "text": [
            "0 Validation Accuracy: 0.8058 Test Accuracy: 0.7977\n",
            "1 Validation Accuracy: 0.8239 Test Accuracy: 0.8138\n",
            "2 Validation Accuracy: 0.8289 Test Accuracy: 0.8159\n",
            "3 Validation Accuracy: 0.8462 Test Accuracy: 0.8331\n",
            "4 Validation Accuracy: 0.8541 Test Accuracy: 0.8467\n",
            "5 Validation Accuracy: 0.8592 Test Accuracy: 0.8468\n",
            "6 Validation Accuracy: 0.8581 Test Accuracy: 0.851\n",
            "7 Validation Accuracy: 0.853 Test Accuracy: 0.8509\n",
            "8 Validation Accuracy: 0.8646 Test Accuracy: 0.8577\n",
            "9 Validation Accuracy: 0.8617 Test Accuracy: 0.8517\n",
            "10 Validation Accuracy: 0.8622 Test Accuracy: 0.8535\n",
            "11 Validation Accuracy: 0.8647 Test Accuracy: 0.8568\n",
            "12 Validation Accuracy: 0.8639 Test Accuracy: 0.853\n",
            "13 Validation Accuracy: 0.867 Test Accuracy: 0.8619\n",
            "14 Validation Accuracy: 0.8731 Test Accuracy: 0.8619\n",
            "15 Validation Accuracy: 0.8709 Test Accuracy: 0.8632\n",
            "16 Validation Accuracy: 0.8767 Test Accuracy: 0.8666\n",
            "17 Validation Accuracy: 0.8653 Test Accuracy: 0.8591\n",
            "18 Validation Accuracy: 0.8733 Test Accuracy: 0.8634\n",
            "19 Validation Accuracy: 0.8752 Test Accuracy: 0.867\n",
            "20 Validation Accuracy: 0.8737 Test Accuracy: 0.862\n",
            "21 Validation Accuracy: 0.8796 Test Accuracy: 0.8663\n",
            "22 Validation Accuracy: 0.8692 Test Accuracy: 0.8651\n",
            "23 Validation Accuracy: 0.8744 Test Accuracy: 0.8694\n",
            "24 Validation Accuracy: 0.8789 Test Accuracy: 0.8698\n",
            "25 Validation Accuracy: 0.8748 Test Accuracy: 0.8683\n",
            "26 Validation Accuracy: 0.8775 Test Accuracy: 0.8662\n",
            "27 Validation Accuracy: 0.8713 Test Accuracy: 0.8599\n",
            "28 Validation Accuracy: 0.8794 Test Accuracy: 0.8693\n",
            "29 Validation Accuracy: 0.8757 Test Accuracy: 0.8694\n"
          ],
          "name": "stdout"
        }
      ]
    },
    {
      "metadata": {
        "id": "CuCSWYRkAYZX",
        "colab_type": "text"
      },
      "cell_type": "markdown",
      "source": [
        "This model does not seem to do much better. Perhaps the previous model with more tuning methods will help."
      ]
    },
    {
      "metadata": {
        "id": "0CMwimaHxtgc",
        "colab_type": "text"
      },
      "cell_type": "markdown",
      "source": [
        "### Third model\n",
        "\n",
        "For this one I am using even more hyperparameters, I have added batch normalization, and used He initializer instead of Xavier.\n",
        "\n",
        "I have chosen a different number of neurons per dense layer.\n",
        "\n",
        "Also I have adjusted the momentum to 0.95 and opted for the Adagrad optimizer. "
      ]
    },
    {
      "metadata": {
        "id": "nkXvE9W3GVJd",
        "colab_type": "code",
        "colab": {}
      },
      "cell_type": "code",
      "source": [
        "reset_graph() # reset model\n",
        "\n",
        "learning_rate = 0.34\n",
        "n_hidden1 = 500\n",
        "n_hidden2 = 200\n",
        "momentum = 0.95\n",
        "\n",
        "# Construct placeholder for the input layer\n",
        "X = tf.placeholder(tf.float32, shape=(None, n_inputs), name=\"X\")\n",
        "y = tf.placeholder(tf.int32, shape=(None), name=\"y\")\n",
        "training = tf.placeholder_with_default(False, shape = (), name = 'training')\n",
        "\n",
        "# This is the network layout\n",
        "with tf.name_scope(\"dnn\"):\n",
        "    bn0 = tf.layers.batch_normalization(X, training=training, momentum=momentum)\n",
        "    dropout0 = tf.contrib.layers.dropout(bn0, keep_prob = 0.8)\n",
        "    \n",
        "    hidden1 = tf.layers.dense(dropout0, n_hidden1, name = \"hidden1\", \n",
        "                              kernel_initializer = tf.contrib.layers.variance_scaling_initializer(seed = 42))\n",
        "    \n",
        "    bn1 = tf.layers.batch_normalization(hidden1, training=training, momentum=momentum)\n",
        "    bn1_act = tf.nn.leaky_relu(bn1)\n",
        "    dropout1 = tf.contrib.layers.dropout(bn1_act, keep_prob=0.7)\n",
        "    \n",
        "    # 2nd layer\n",
        "    hidden2 = tf.layers.dense(dropout1, n_hidden2, name = \"hidden2\", \n",
        "                              kernel_initializer = tf.contrib.layers.variance_scaling_initializer(seed = 42))\n",
        "    \n",
        "    bn2 = tf.layers.batch_normalization(hidden2, training=training, momentum=momentum)\n",
        "    bn2_act = tf.nn.leaky_relu(bn2)\n",
        "    dropout2 = tf.contrib.layers.dropout(bn2_act, keep_prob=0.65)\n",
        "    \n",
        "    \n",
        "    #output layer\n",
        "    logits_before_bn = tf.layers.dense(dropout2, n_outputs, name = \"outputs\")\n",
        "    logits = tf.layers.batch_normalization(logits_before_bn, training=training, momentum=momentum)\n",
        "\n",
        "    \n",
        "with tf.name_scope(\"loss\"):\n",
        "  # use softmax for multiclass output\n",
        "    xentropy = tf.nn.sparse_softmax_cross_entropy_with_logits(\n",
        "        labels=y, logits=logits)\n",
        "    loss = tf.reduce_mean(xentropy, name = \"loss\")\n",
        "\n",
        "with tf.name_scope(\"train\"):\n",
        "    # use AdagradOptimizer\n",
        "    optimizer = tf.train.AdagradOptimizer(learning_rate)\n",
        "    training_op = optimizer.minimize(loss)\n",
        "\n",
        "with tf.name_scope(\"eval\"):\n",
        "    correct = tf.nn.in_top_k(logits, y, 1)\n",
        "    accuracy = tf.reduce_mean(tf.cast(correct, tf.float32))"
      ],
      "execution_count": 0,
      "outputs": []
    },
    {
      "metadata": {
        "id": "fK4cQ9a8G49i",
        "colab_type": "code",
        "outputId": "9d178e4a-d092-4827-e313-e174bf638be1",
        "colab": {
          "base_uri": "https://localhost:8080/",
          "height": 550
        }
      },
      "cell_type": "code",
      "source": [
        "init = tf.global_variables_initializer()\n",
        "saver = tf.train.Saver()\n",
        "\n",
        "extra_update_ops = tf.get_collection(tf.GraphKeys.UPDATE_OPS)\n",
        "\n",
        "# number of epochs and batch sizes\n",
        "n_epochs = 30\n",
        "batch_size = 400\n",
        "\n",
        "with tf.Session() as sess:\n",
        "    init.run()\n",
        "    for epoch in range(n_epochs):\n",
        "        for X_batch, y_batch in shuffle_batch(X_train, y_train, batch_size):\n",
        "            sess.run([training_op, extra_update_ops], \n",
        "                     feed_dict={training: True, X: X_batch, y: y_batch})\n",
        "        acc_val = accuracy.eval(feed_dict={X: X_val, y: y_val})\n",
        "        acc_test = accuracy.eval(feed_dict={X: X_test, y: y_test})\n",
        "    \n",
        "        print(epoch, \"Validation Accuracy:\", acc_val, \"Test Accuracy:\", acc_test)\n",
        "    \n",
        "    save_path = saver.save(sess, \"./model_03.ckpt\")"
      ],
      "execution_count": 17,
      "outputs": [
        {
          "output_type": "stream",
          "text": [
            "0 Validation Accuracy: 0.8217 Test Accuracy: 0.8165\n",
            "1 Validation Accuracy: 0.84 Test Accuracy: 0.8269\n",
            "2 Validation Accuracy: 0.8497 Test Accuracy: 0.8381\n",
            "3 Validation Accuracy: 0.8506 Test Accuracy: 0.8402\n",
            "4 Validation Accuracy: 0.8581 Test Accuracy: 0.842\n",
            "5 Validation Accuracy: 0.8534 Test Accuracy: 0.8466\n",
            "6 Validation Accuracy: 0.8593 Test Accuracy: 0.8468\n",
            "7 Validation Accuracy: 0.8605 Test Accuracy: 0.8507\n",
            "8 Validation Accuracy: 0.8596 Test Accuracy: 0.8547\n",
            "9 Validation Accuracy: 0.8668 Test Accuracy: 0.8564\n",
            "10 Validation Accuracy: 0.8653 Test Accuracy: 0.8524\n",
            "11 Validation Accuracy: 0.8678 Test Accuracy: 0.8544\n",
            "12 Validation Accuracy: 0.8658 Test Accuracy: 0.8583\n",
            "13 Validation Accuracy: 0.8678 Test Accuracy: 0.8621\n",
            "14 Validation Accuracy: 0.8692 Test Accuracy: 0.861\n",
            "15 Validation Accuracy: 0.8695 Test Accuracy: 0.863\n",
            "16 Validation Accuracy: 0.8703 Test Accuracy: 0.8634\n",
            "17 Validation Accuracy: 0.8721 Test Accuracy: 0.8619\n",
            "18 Validation Accuracy: 0.8712 Test Accuracy: 0.8622\n",
            "19 Validation Accuracy: 0.875 Test Accuracy: 0.8663\n",
            "20 Validation Accuracy: 0.8698 Test Accuracy: 0.859\n",
            "21 Validation Accuracy: 0.8757 Test Accuracy: 0.8677\n",
            "22 Validation Accuracy: 0.8731 Test Accuracy: 0.8651\n",
            "23 Validation Accuracy: 0.8722 Test Accuracy: 0.8657\n",
            "24 Validation Accuracy: 0.8746 Test Accuracy: 0.868\n",
            "25 Validation Accuracy: 0.8769 Test Accuracy: 0.866\n",
            "26 Validation Accuracy: 0.8793 Test Accuracy: 0.8674\n",
            "27 Validation Accuracy: 0.8736 Test Accuracy: 0.8671\n",
            "28 Validation Accuracy: 0.8739 Test Accuracy: 0.8676\n",
            "29 Validation Accuracy: 0.8745 Test Accuracy: 0.8726\n"
          ],
          "name": "stdout"
        }
      ]
    },
    {
      "metadata": {
        "id": "lFPM62nDjncP",
        "colab_type": "code",
        "outputId": "58fdd608-ce06-4642-f7dc-9f083e097990",
        "colab": {
          "base_uri": "https://localhost:8080/",
          "height": 34
        }
      },
      "cell_type": "code",
      "source": [
        "with tf.Session() as sess:\n",
        "    saver.restore(sess, \"./model_03.ckpt\")\n",
        "    final_acc = accuracy.eval(feed_dict={X: X_test, y: y_test})\n",
        "    print('The final accuracy for my final model is:', final_acc*100, '%')"
      ],
      "execution_count": 19,
      "outputs": [
        {
          "output_type": "stream",
          "text": [
            "The final accuracy for my final model is: 86.59999966621399 %\n"
          ],
          "name": "stdout"
        }
      ]
    },
    {
      "metadata": {
        "id": "M1ecCmZZBV0U",
        "colab_type": "text"
      },
      "cell_type": "markdown",
      "source": [
        "With further tuning I might be able to bring the accuracy to 90% or higher. This is fairly difficult since I do not know the exact parameters that make this network optimal. Also, this network is using the low level API instead of high level like Keras. The purpose of this is to practice with low level and see if I can make working models without using optimal parameters."
      ]
    },
    {
      "metadata": {
        "id": "04jsbI9TAGGY",
        "colab_type": "text"
      },
      "cell_type": "markdown",
      "source": [
        "---\n",
        "\n",
        "In the future I will attempt to build more networks and tune the parameters even more to see if I can master the art of network construction. Also, in the future I will use convolutional neural nets (CNNs) to see how they impact performance."
      ]
    }
  ]
}